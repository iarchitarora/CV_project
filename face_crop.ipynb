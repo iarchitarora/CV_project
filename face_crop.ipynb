{
  "cells": [
    {
      "cell_type": "code",
      "execution_count": 5,
      "metadata": {},
      "outputs": [],
      "source": [
        "import face_recognition\n",
        "import cv2\n",
        "import glob"
      ]
    },
    {
      "cell_type": "code",
      "execution_count": 6,
      "metadata": {},
      "outputs": [],
      "source": [
        "images_list =  glob.glob(\"C:\\\\Users\\\\Archit\\\\Desktop\\\\cv proj\\\\Input_after_contrast\\\\*\")"
      ]
    },
    {
      "cell_type": "code",
      "execution_count": 10,
      "metadata": {
        "colab": {
          "base_uri": "https://localhost:8080/",
          "height": 1000
        },
        "id": "NxuKsDLArN7y",
        "outputId": "62d5ec8a-3502-4a1a-c612-68f691c521f2"
      },
      "outputs": [
        {
          "name": "stdout",
          "output_type": "stream",
          "text": [
            "1\n",
            "2\n",
            "3\n",
            "4\n",
            "5\n",
            "6\n"
          ]
        }
      ],
      "source": [
        "i = 1\n",
        "# from google.colab.patches import cv2_imshow\n",
        "for path in images_list:\n",
        "    img = face_recognition.load_image_file(path)\n",
        "    img_rgb = cv2.cvtColor(img, cv2.COLOR_BGR2RGB)\n",
        "    img_rgb_copy = img_rgb.copy()\n",
        "\n",
        "\n",
        "    ## Define scale factor and window size\n",
        "    scale_factor = 1.1\n",
        "    sz1 = img_rgb.shape[1] * 2\n",
        "    sz2 = img_rgb.shape[0] * 2\n",
        "\n",
        "\n",
        "    face_locations = face_recognition.face_locations(img_rgb)\n",
        "\n",
        "    for top, right, bottom, left in face_locations:\n",
        "        # Draw a box around the face\n",
        "        #cv2.rectangle(img, (left, top), (right, bottom), (0, 0, 255), 2)\n",
        "\n",
        "        crop_img = img_rgb[top:bottom, left:right]\n",
        "        #cv2.imwrite('test_crop.png', crop_img)\n",
        "\n",
        "\n",
        "\n",
        "        ## Calculate center points and rectangle side length\n",
        "        width = right - left\n",
        "        height = bottom - top\n",
        "        cX = left + width // 2\n",
        "        cY = top + height // 2\n",
        "        M = (abs(width) + abs(height)) / 2\n",
        "\n",
        "\n",
        "        ## Get the resized rectangle points\n",
        "        newLeft = max(0, int(cX - scale_factor * M))\n",
        "        newTop = max(0, int(cY - scale_factor * M))\n",
        "        newRight = min(img_rgb.shape[1], int(cX + scale_factor * M))\n",
        "        newBottom = min(img_rgb.shape[0], int(cY + scale_factor * M))\n",
        "\n",
        "\n",
        "        ## Draw the circle and bounding boxes\n",
        "        cv2.circle(img_rgb_copy, (cX, cY), radius=0, color=(0, 0, 255), thickness=2)\n",
        "        cv2.rectangle(img_rgb_copy, (left, top), (right, bottom), (0, 0, 255), 2)\n",
        "        cv2.rectangle(img_rgb_copy, (newLeft, newTop), (newRight, newBottom), (255, 0, 0), 2)\n",
        "\n",
        "\n",
        "        ## Show the original image in window resized to double\n",
        "    #     cv2.namedWindow('image', cv2.WINDOW_NORMAL)\n",
        "    #     cv2.resizeWindow('image', sz1, sz2)\n",
        "        # cv2.imshow( \"abc\", img_rgb_copy)\n",
        "        # cv2.waitKey(0)\n",
        "        crop_img = img_rgb[top:bottom, left:right]\n",
        "        \n",
        "        # cv2.imshow(  \"abc1\",crop_img)\n",
        "        # cv2.waitKey(0)\n",
        "        crop_img1 = img_rgb[newTop:newBottom, newLeft:newRight]\n",
        "        arr1 = cv2.resize(crop_img,(250,250))\n",
        "        cv2.imwrite(f\"C:\\\\Users\\\\Archit\\\\Desktop\\\\cv proj\\\\Input_after_face_det1\\\\\"+f\"image{i}\"+\".jpg\",arr1)\n",
        "        arr2 = cv2.resize(crop_img1,(250,250))\n",
        "        cv2.imwrite(f\"C:\\\\Users\\\\Archit\\\\Desktop\\\\cv proj\\\\Input_after_face_det2\\\\\"+f\"image{i}\"+\".jpg\", arr2)\n",
        "        # cv2.imshow( \"xyz\", crop_img1)\n",
        "        # cv2.waitKey(0)\n",
        "        # cv2.imshow(\"abc2\",arr)\n",
        "        # cv2.waitKey(0)\n",
        "    print(i)\n",
        "    i += 1\n",
        "\n",
        "    cv2.destroyAllWindows()"
      ]
    },
    {
      "cell_type": "code",
      "execution_count": 12,
      "metadata": {
        "id": "qPYlxC_I_1MR"
      },
      "outputs": [],
      "source": [
        "arr = cv2.resize(crop_img1,(250,250))"
      ]
    },
    {
      "cell_type": "code",
      "execution_count": 13,
      "metadata": {
        "colab": {
          "base_uri": "https://localhost:8080/"
        },
        "id": "XtVZiEbgATDi",
        "outputId": "98d8cb0f-c9a4-4fa1-b4b9-48e5c13bf6b8"
      },
      "outputs": [
        {
          "data": {
            "text/plain": [
              "(250, 250, 3)"
            ]
          },
          "execution_count": 13,
          "metadata": {},
          "output_type": "execute_result"
        }
      ],
      "source": [
        "arr.shape"
      ]
    },
    {
      "cell_type": "code",
      "execution_count": 14,
      "metadata": {
        "colab": {
          "base_uri": "https://localhost:8080/",
          "height": 266
        },
        "id": "hRu7McmtAm3N",
        "outputId": "ce9576a5-1b80-4325-fec7-208b74c33227"
      },
      "outputs": [
        {
          "data": {
            "text/plain": [
              "-1"
            ]
          },
          "execution_count": 14,
          "metadata": {},
          "output_type": "execute_result"
        }
      ],
      "source": [
        "cv2.imshow(\"abc2\",arr)\n",
        "cv2.waitKey(0)"
      ]
    }
  ],
  "metadata": {
    "accelerator": "GPU",
    "colab": {
      "name": "temp.ipynb",
      "provenance": []
    },
    "kernelspec": {
      "display_name": "Python 3",
      "name": "python3"
    },
    "language_info": {
      "codemirror_mode": {
        "name": "ipython",
        "version": 3
      },
      "file_extension": ".py",
      "mimetype": "text/x-python",
      "name": "python",
      "nbconvert_exporter": "python",
      "pygments_lexer": "ipython3",
      "version": "3.9.7"
    }
  },
  "nbformat": 4,
  "nbformat_minor": 0
}
